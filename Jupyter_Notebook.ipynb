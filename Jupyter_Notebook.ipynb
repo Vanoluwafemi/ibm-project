{
 "cells": [
  {
   "cell_type": "markdown",
   "metadata": {},
   "source": [
    "\"My Jupyter Notebook on IBM Watson Studio\"<center>\n",
    "    <img src=\"https://s3-api.us-geo.objectstorage.softlayer.net/cf-courses-data/CognitiveClass/Logos/organization_logo/organization_logo.png\" width=\"300\" alt=\"cognitiveclass.ai logo\"  />\n",
    "</center>\n"
   ]
  },
  {
   "cell_type": "markdown",
   "metadata": {},
   "source": [
    "#### Add your code below following the instructions given in the course\n"
   ]
  },
  {
   "cell_type": "markdown",
   "metadata": {},
   "source": [
    "\"**OYELEYE SAMSON ADEKUNLE**\"\n",
    "\"A Data Scientist\""
   ]
  },
  {
   "cell_type": "markdown",
   "metadata": {},
   "source": [
    "\"*I am interested in data science since it is a field that is underrepresented and because I can earn a good livelihood from it.*\""
   ]
  },
  {
   "cell_type": "markdown",
   "metadata": {},
   "source": [
    " \"### My code is supposed to run the fibonacci sequence\""
   ]
  },
  {
   "cell_type": "code",
   "execution_count": 2,
   "metadata": {},
   "outputs": [
    {
     "data": {
      "text/plain": [
       "['i = 0\\n',\n",
       " 'j = 1\\n',\n",
       " 'n = int \\n',\n",
       " 'while(j<20):\\n',\n",
       " '    print(j)\\n',\n",
       " '    n = i\\n',\n",
       " '    i = j\\n',\n",
       " '    j = j + n\\n',\n",
       " '\\n',\n",
       " '   ']"
      ]
     },
     "execution_count": 2,
     "metadata": {},
     "output_type": "execute_result"
    }
   ],
   "source": [
    " [\n",
    "    \"i = 0\\n\",\n",
    "    \"j = 1\\n\",\n",
    "    \"n = int \\n\",\n",
    "    \"while(j<20):\\n\",\n",
    "    \"    print(j)\\n\",\n",
    "    \"    n = i\\n\",\n",
    "    \"    i = j\\n\",\n",
    "    \"    j = j + n\\n\",\n",
    "    \"\\n\",\n",
    "    \"   \"\n",
    "]"
   ]
  },
  {
   "cell_type": "markdown",
   "metadata": {},
   "source": [
    "\"___\\n\"\n",
    "\"###  1"
   ]
  }
 ],
 "metadata": {
  "kernelspec": {
   "display_name": "Python",
   "language": "python",
   "name": "conda-env-python-py"
  },
  "language_info": {
   "codemirror_mode": {
    "name": "ipython",
    "version": 3
   },
   "file_extension": ".py",
   "mimetype": "text/x-python",
   "name": "python",
   "nbconvert_exporter": "python",
   "pygments_lexer": "ipython3",
   "version": "3.7.12"
  }
 },
 "nbformat": 4,
 "nbformat_minor": 4
}
